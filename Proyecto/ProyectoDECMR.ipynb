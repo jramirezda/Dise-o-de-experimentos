{
 "cells": [
  {
   "cell_type": "markdown",
   "metadata": {},
   "source": [
    "# Estudio experimental sobre la remoción de manchas\n",
    "\n",
    "## Proyecto Diseño de experimentos.\n",
    "\n",
    "## Gabriela Chibuque, Miguel Martín, Jhon Ramírez"
   ]
  },
  {
   "cell_type": "markdown",
   "metadata": {},
   "source": [
    "Procesamiento de las imagenes, y obtención de la variable respuesta:"
   ]
  },
  {
   "cell_type": "code",
   "execution_count": 2,
   "metadata": {},
   "outputs": [
    {
     "name": "stdout",
     "output_type": "stream",
     "text": [
      "Razones de proporciones de manchas: [np.float64(0.8271949893042507), np.float64(1.1238035718610602), np.float64(0.964515760418098), np.float64(1.013680994822095), np.float64(1.0508379608629825), np.float64(0.914349005285425), np.float64(1.235426177088032), np.float64(0.9905014122218547), np.float64(0.7653642913394095), np.float64(1.2514170483006912), np.float64(0.9904064585080199), np.float64(0.9349252440554778), np.float64(1.167486148370997), np.float64(1.1053993573003553), np.float64(0.9498294394412983), np.float64(1.1612993005616676), np.float64(1.0504086392815788), np.float64(0.8216337637178089), np.float64(0.9442664876451229), np.float64(0.9919124699606036), np.float64(1.1586473567865212), np.float64(1.1225382949684573), np.float64(0.9601898960223937), np.float64(1.1626583411512172), np.float64(1.0778769476876529), np.float64(0.774280710569622), np.float64(0.9587421186320213), np.float64(0.7409431313643372), np.float64(1.0834487802793513), np.float64(0.9207146880870465), np.float64(1.0498954566328063), np.float64(1.0072898443777514), np.float64(0.6776803927014329), np.float64(0.953048637533842), np.float64(1.03680627570232), np.float64(0.8974072841952373), np.float64(0.7037845390282598), np.float64(0.9522838839293041), np.float64(0.7951500675845543), np.float64(0.8987596202575742), np.float64(1.0254161126533337), np.float64(1.06466460552074), np.float64(0.8325997195980754), np.float64(1.014847784064339), np.float64(1.1361962745347236), np.float64(0.606508326296588), np.float64(1.0566198420281745), np.float64(0.8477588121093643), np.float64(0.988279283214424), np.float64(0.7615651833025758), np.float64(0.9990145609039675), np.float64(0.7234503435668153), np.float64(0.8869507222718216), np.float64(1.10364487962027), np.float64(1.3207420716097964), np.float64(1.2101378699453798), np.float64(1.1015361714457843), np.float64(1.3521481873577446), np.float64(1.26821895807844), np.float64(1.394669037578734), np.float64(1.2252671713282903), np.float64(1.3048213764114713), np.float64(1.4096756501347796), np.float64(1.2169857243692748), np.float64(0.9599317701026154), np.float64(1.1096556472746966), np.float64(1.2275393772506775), np.float64(1.0495713132232254), np.float64(1.0425630991257404), np.float64(0.9987792523572305), np.float64(0.8993368952395263), np.float64(0.9784825896597334), np.float64(1.0713005852017319), np.float64(0.9579892297260436), np.float64(1.108682635348195), np.float64(1.086504920498508), np.float64(1.280050064026727), np.float64(1.096865612385824), np.float64(1.2418355455745875), np.float64(0.9954256073979227), np.float64(1.045557301314669)]\n"
     ]
    }
   ],
   "source": [
    "import os\n",
    "import numpy as np\n",
    "from PIL import Image, ImageEnhance\n",
    "\n",
    "# Directorios de las carpetas\n",
    "antes_dir = 'Antes'\n",
    "despues_dir = 'Despues'\n",
    "\n",
    "# Obtener lista de archivos\n",
    "antes_imgs = sorted([f for f in os.listdir(antes_dir) if f.endswith('.jpg') or f.endswith('.png')])\n",
    "despues_imgs = sorted([f for f in os.listdir(despues_dir) if f.endswith('.jpg') or f.endswith('.png')])\n",
    "\n",
    "# Verificar que haya el mismo número de imágenes en ambas carpetas\n",
    "assert len(antes_imgs) == len(despues_imgs), \"Las carpetas deben tener el mismo número de imágenes\"\n",
    "\n",
    "# Función para calcular la proporción de manchas (píxeles alejados del blanco)\n",
    "def calcular_proporcion_mancha(imagen_path, umbral=200, factor_contraste=4.0):\n",
    "    imagen = Image.open(imagen_path)\n",
    "    \n",
    "    # Aumentar el contraste de la imagen\n",
    "    enhancer = ImageEnhance.Contrast(imagen)\n",
    "    imagen_contraste = enhancer.enhance(factor_contraste)  # Aplicar el factor de contraste\n",
    "    \n",
    "    # Convertir la imagen a escala de grises para simplificar el análisis\n",
    "    imagen_gris = imagen_contraste.convert('L')\n",
    "    \n",
    "    # Convertir a array de numpy\n",
    "    imagen_np = np.array(imagen_gris)\n",
    "    \n",
    "    # Contar píxeles cercanos al blanco (umbral de brillo)\n",
    "    pixeles_totales = imagen_np.size\n",
    "    pixeles_mancha = np.sum(imagen_np < umbral)  # Píxeles alejados del blanco\n",
    "    \n",
    "    # Proporción de píxeles de \"mancha\" (alejados del blanco)\n",
    "    proporcion_mancha = pixeles_mancha / pixeles_totales\n",
    "    return proporcion_mancha\n",
    "\n",
    "# Inicializar lista para almacenar la razón entre proporciones de manchas\n",
    "razones_proporciones = []\n",
    "\n",
    "# Iterar sobre las imágenes de ambas carpetas\n",
    "for antes_img, despues_img in zip(antes_imgs, despues_imgs):\n",
    "    antes_path = os.path.join(antes_dir, antes_img)\n",
    "    despues_path = os.path.join(despues_dir, despues_img)\n",
    "\n",
    "    # Calcular la proporción de manchas de las imágenes antes y después\n",
    "    proporcion_antes = calcular_proporcion_mancha(antes_path)\n",
    "    proporcion_despues = calcular_proporcion_mancha(despues_path)\n",
    "\n",
    "    # Calcular la razón de proporciones de manchas entre la imagen después y antes\n",
    "    if proporcion_antes != 0:  # Evitar división por cero\n",
    "        razon_proporcion = proporcion_despues / proporcion_antes\n",
    "    else:\n",
    "        razon_proporcion = float('inf')  # Si no hay mancha en \"antes\", asignar infinito\n",
    "\n",
    "    razones_proporciones.append(razon_proporcion)\n",
    "\n",
    "# Mostrar la lista de razones de proporciones de manchas\n",
    "print(\"Razones de proporciones de manchas:\", razones_proporciones)\n"
   ]
  }
 ],
 "metadata": {
  "kernelspec": {
   "display_name": "Python 3",
   "language": "python",
   "name": "python3"
  },
  "language_info": {
   "codemirror_mode": {
    "name": "ipython",
    "version": 3
   },
   "file_extension": ".py",
   "mimetype": "text/x-python",
   "name": "python",
   "nbconvert_exporter": "python",
   "pygments_lexer": "ipython3",
   "version": "3.12.3"
  }
 },
 "nbformat": 4,
 "nbformat_minor": 2
}
